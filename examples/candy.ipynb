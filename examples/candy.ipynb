{
 "cells": [
  {
   "cell_type": "markdown",
   "metadata": {},
   "source": [
    "This is an example of a simple compositional data analysis with the `composition_stats` package. The data is the number of candy of a given color per bag."
   ]
  },
  {
   "cell_type": "code",
   "execution_count": 1,
   "metadata": {},
   "outputs": [],
   "source": [
    "import numpy as np"
   ]
  },
  {
   "cell_type": "code",
   "execution_count": 2,
   "metadata": {},
   "outputs": [],
   "source": [
    "%matplotlib inline\n",
    "import matplotlib.pyplot as plt"
   ]
  },
  {
   "cell_type": "markdown",
   "metadata": {},
   "source": [
    "Load the data from file. There are 6 columns, one for each colour, and 30 rows with the individual samples."
   ]
  },
  {
   "cell_type": "code",
   "execution_count": 3,
   "metadata": {},
   "outputs": [],
   "source": [
    "data = np.genfromtxt('data/candy.txt', delimiter=',', skip_header=1)"
   ]
  },
  {
   "cell_type": "code",
   "execution_count": 4,
   "metadata": {},
   "outputs": [],
   "source": [
    "colours = ['Red', 'Green', 'Blue', 'Orange', 'Yellow', 'Brown']"
   ]
  },
  {
   "cell_type": "code",
   "execution_count": 5,
   "metadata": {},
   "outputs": [
    {
     "data": {
      "text/plain": [
       "(30, 6)"
      ]
     },
     "execution_count": 5,
     "metadata": {},
     "output_type": "execute_result"
    }
   ],
   "source": [
    "np.shape(data)"
   ]
  },
  {
   "cell_type": "markdown",
   "metadata": {},
   "source": [
    "Plot the distribution of numbers for each colour."
   ]
  },
  {
   "cell_type": "code",
   "execution_count": 6,
   "metadata": {},
   "outputs": [
    {
     "data": {
      "image/png": "[encoded data removed]",
      "text/plain": [
       "<Figure size 432x288 with 1 Axes>"
      ]
     },
     "metadata": {
      "needs_background": "light"
     },
     "output_type": "display_data"
    }
   ],
   "source": [
    "for i, c in enumerate(colours):\n",
    "    plt.hist(data[:, i], histtype='stepfilled', fc=c, alpha=0.3, label=c)\n",
    "plt.legend()\n",
    "plt.show()"
   ]
  },
  {
   "cell_type": "markdown",
   "metadata": {},
   "source": [
    "Plot the distribution of total number."
   ]
  },
  {
   "cell_type": "code",
   "execution_count": 7,
   "metadata": {},
   "outputs": [],
   "source": [
    "total = np.sum(data, axis=-1)"
   ]
  },
  {
   "cell_type": "code",
   "execution_count": 8,
   "metadata": {},
   "outputs": [
    {
     "data": {
      "image/png": "[encoded data removed]",
      "text/plain": [
       "<Figure size 432x288 with 1 Axes>"
      ]
     },
     "metadata": {
      "needs_background": "light"
     },
     "output_type": "display_data"
    }
   ],
   "source": [
    "plt.hist(total, histtype='stepfilled', label='total')\n",
    "plt.legend()\n",
    "plt.show()"
   ]
  },
  {
   "cell_type": "markdown",
   "metadata": {},
   "source": [
    "As the total number of candies is not constant, we might be interested in analysing the distribution of the composition of the candies. The first step is to convert the numbers into fractions of the total using the `closure()` function from `composition_stats`."
   ]
  },
  {
   "cell_type": "code",
   "execution_count": 9,
   "metadata": {},
   "outputs": [],
   "source": [
    "from composition_stats import closure"
   ]
  },
  {
   "cell_type": "code",
   "execution_count": 10,
   "metadata": {},
   "outputs": [],
   "source": [
    "comp = closure(data)"
   ]
  },
  {
   "cell_type": "code",
   "execution_count": 11,
   "metadata": {},
   "outputs": [
    {
     "name": "stdout",
     "output_type": "stream",
     "text": [
      "[[0.05172414 0.0862069  0.18965517 0.20689655 0.18965517 0.27586207]\n",
      " [0.06896552 0.03448276 0.17241379 0.10344828 0.31034483 0.31034483]\n",
      " [0.07272727 0.10909091 0.16363636 0.07272727 0.21818182 0.36363636]\n",
      " [0.07142857 0.10714286 0.125      0.10714286 0.25       0.33928571]\n",
      " [0.0877193  0.0877193  0.28070175 0.21052632 0.12280702 0.21052632]\n",
      " [0.09259259 0.07407407 0.03703704 0.16666667 0.33333333 0.2962963 ]\n",
      " [0.10344828 0.12068966 0.05172414 0.10344828 0.44827586 0.17241379]\n",
      " [0.10714286 0.10714286 0.10714286 0.07142857 0.375      0.23214286]\n",
      " [0.13793103 0.13793103 0.10344828 0.0862069  0.18965517 0.34482759]\n",
      " [0.13333333 0.15       0.21666667 0.06666667 0.25       0.18333333]\n",
      " [0.13333333 0.11666667 0.11666667 0.21666667 0.11666667 0.3       ]\n",
      " [0.14545455 0.16363636 0.07272727 0.10909091 0.38181818 0.12727273]\n",
      " [0.15254237 0.28813559 0.3220339  0.05084746 0.05084746 0.13559322]\n",
      " [0.16981132 0.16981132 0.05660377 0.16981132 0.1509434  0.28301887]\n",
      " [0.15517241 0.18965517 0.22413793 0.         0.12068966 0.31034483]\n",
      " [0.18       0.14       0.14       0.04       0.36       0.14      ]\n",
      " [0.15254237 0.13559322 0.05084746 0.13559322 0.38983051 0.13559322]\n",
      " [0.18181818 0.05454545 0.12727273 0.16363636 0.4        0.07272727]\n",
      " [0.1754386  0.21052632 0.19298246 0.10526316 0.19298246 0.12280702]\n",
      " [0.18032787 0.09836066 0.1147541  0.19672131 0.19672131 0.21311475]\n",
      " [0.20689655 0.12068966 0.10344828 0.0862069  0.29310345 0.18965517]\n",
      " [0.21818182 0.16363636 0.23636364 0.03636364 0.10909091 0.23636364]\n",
      " [0.21428571 0.10714286 0.01785714 0.21428571 0.10714286 0.33928571]\n",
      " [0.23728814 0.13559322 0.10169492 0.13559322 0.3220339  0.06779661]\n",
      " [0.2295082  0.18032787 0.06557377 0.01639344 0.2295082  0.27868852]\n",
      " [0.24137931 0.0862069  0.10344828 0.10344828 0.36206897 0.10344828]\n",
      " [0.25862069 0.15517241 0.05172414 0.05172414 0.15517241 0.32758621]\n",
      " [0.26315789 0.12280702 0.05263158 0.14035088 0.28070175 0.14035088]\n",
      " [0.25862069 0.18965517 0.06896552 0.22413793 0.12068966 0.13793103]\n",
      " [0.35714286 0.03571429 0.125      0.08928571 0.23214286 0.16071429]]\n"
     ]
    }
   ],
   "source": [
    "print(comp)"
   ]
  },
  {
   "cell_type": "markdown",
   "metadata": {},
   "source": [
    "The output above shows that there is a zero entry in the data. As discussed by Martín-Fernández et al. (2003), zero entries must be handled with care in compositional data. For the sake of this example, we can pretend that there were \"trace amounts\" of orange candy in the sample, and replace the zero entry by a small positive number. This is done in the correct way using the `multiplicative_replacement()` function from the package."
   ]
  },
  {
   "cell_type": "code",
   "execution_count": 12,
   "metadata": {},
   "outputs": [],
   "source": [
    "from composition_stats import multiplicative_replacement"
   ]
  },
  {
   "cell_type": "code",
   "execution_count": 13,
   "metadata": {},
   "outputs": [],
   "source": [
    "comp = multiplicative_replacement(comp, 1e-10)"
   ]
  },
  {
   "cell_type": "markdown",
   "metadata": {},
   "source": [
    "We can now apply any of the ILR, CLR, ALR transformations to the compositional data. Here we use the `ilr()` function from the package."
   ]
  },
  {
   "cell_type": "code",
   "execution_count": 14,
   "metadata": {},
   "outputs": [],
   "source": [
    "from composition_stats import ilr"
   ]
  },
  {
   "cell_type": "code",
   "execution_count": 15,
   "metadata": {},
   "outputs": [],
   "source": [
    "trafo = ilr(comp)"
   ]
  }
 ],
 "metadata": {
  "kernelspec": {
   "display_name": "Python 3",
   "language": "python",
   "name": "python3"
  },
  "language_info": {
   "codemirror_mode": {
    "name": "ipython",
    "version": 3
   },
   "file_extension": ".py",
   "mimetype": "text/x-python",
   "name": "python",
   "nbconvert_exporter": "python",
   "pygments_lexer": "ipython3",
   "version": "3.9.1"
  }
 },
 "nbformat": 4,
 "nbformat_minor": 4
}
